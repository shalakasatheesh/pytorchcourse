{
 "cells": [
  {
   "cell_type": "code",
   "execution_count": 1,
   "id": "adff4631",
   "metadata": {},
   "outputs": [
    {
     "data": {
      "text/plain": [
       "'1.12.1+cu102'"
      ]
     },
     "execution_count": 1,
     "metadata": {},
     "output_type": "execute_result"
    }
   ],
   "source": [
    "import torch\n",
    "from torch import nn\n",
    "import matplotlib.pyplot as plt\n",
    "\n",
    "# check pytorch version\n",
    "torch.__version__"
   ]
  },
  {
   "cell_type": "code",
   "execution_count": 76,
   "id": "094dd330",
   "metadata": {},
   "outputs": [],
   "source": [
    "weight = 0.7\n",
    "bias = 0.3\n",
    "\n",
    "\n",
    "start = 0 \n",
    "end = 1\n",
    "step = 0.02\n",
    "X = torch.arange(start, end, step).unsqueeze(dim=1)\n",
    "y = weight * X + bias"
   ]
  },
  {
   "cell_type": "code",
   "execution_count": 77,
   "id": "e2699cf9",
   "metadata": {},
   "outputs": [
    {
     "data": {
      "text/plain": [
       "(tensor([[0.0000],\n",
       "         [0.0200],\n",
       "         [0.0400],\n",
       "         [0.0600],\n",
       "         [0.0800],\n",
       "         [0.1000],\n",
       "         [0.1200],\n",
       "         [0.1400],\n",
       "         [0.1600],\n",
       "         [0.1800]]),\n",
       " tensor([[0.3000],\n",
       "         [0.3140],\n",
       "         [0.3280],\n",
       "         [0.3420],\n",
       "         [0.3560],\n",
       "         [0.3700],\n",
       "         [0.3840],\n",
       "         [0.3980],\n",
       "         [0.4120],\n",
       "         [0.4260]]))"
      ]
     },
     "execution_count": 77,
     "metadata": {},
     "output_type": "execute_result"
    }
   ],
   "source": [
    "X[:10], y[:10]"
   ]
  },
  {
   "cell_type": "code",
   "execution_count": 78,
   "id": "c6112e8e",
   "metadata": {},
   "outputs": [
    {
     "name": "stdout",
     "output_type": "stream",
     "text": [
      "50 50\n"
     ]
    }
   ],
   "source": [
    "print(len(X), len(y))"
   ]
  },
  {
   "cell_type": "code",
   "execution_count": 79,
   "id": "fc252d01",
   "metadata": {},
   "outputs": [],
   "source": [
    "train_split = int(0.8 * len(X))\n",
    "X_train, y_train = X[:train_split], y[:train_split]\n",
    "X_test, y_test = X[train_split:], y[train_split:]"
   ]
  },
  {
   "cell_type": "code",
   "execution_count": 80,
   "id": "ec195fdd",
   "metadata": {},
   "outputs": [
    {
     "data": {
      "text/plain": [
       "(40, 40, 10, 10)"
      ]
     },
     "execution_count": 80,
     "metadata": {},
     "output_type": "execute_result"
    }
   ],
   "source": [
    "len(X_train), len(y_train), len(X_test), len(y_test)"
   ]
  },
  {
   "cell_type": "code",
   "execution_count": 130,
   "id": "34affefc",
   "metadata": {},
   "outputs": [],
   "source": [
    "def plot_predictions(train_data=X_train,\n",
    "                     train_labels=y_train,\n",
    "                     test_data=X_test,\n",
    "                     test_labels=y_test,\n",
    "                     predictions=None):\n",
    "    '''\n",
    "    Plots train and test data. Compares predictions\n",
    "    '''\n",
    "    \n",
    "    plt.figure(figsize=(10,7))\n",
    "    plt.scatter(train_data, train_labels,c='b',s=4,label='training data')\n",
    "    plt.scatter(test_data, test_labels, c='g',s=4,label='testing data')\n",
    "    \n",
    "    if predictions is not None:\n",
    "        plt.scatter(test_data, predictions,c='r', s=4,label='predictions')\n",
    "    \n",
    "    plt.legend(prop={'size':14})"
   ]
  },
  {
   "cell_type": "code",
   "execution_count": 131,
   "id": "2225bca3",
   "metadata": {},
   "outputs": [
    {
     "data": {
      "image/png": "[encoded data removed]",
      "text/plain": [
       "<Figure size 720x504 with 1 Axes>"
      ]
     },
     "metadata": {
      "needs_background": "light"
     },
     "output_type": "display_data"
    }
   ],
   "source": [
    "plot_predictions()"
   ]
  },
  {
   "cell_type": "markdown",
   "id": "69fa8f78",
   "metadata": {},
   "source": [
    "# Model"
   ]
  },
  {
   "cell_type": "code",
   "execution_count": 170,
   "id": "d6250da7",
   "metadata": {},
   "outputs": [],
   "source": [
    "class LinearRegressionModel(nn.Module): # class inherits from nn.Module.\n",
    "    def __init__(self):\n",
    "        super().__init__()\n",
    "        self.weights = nn.Parameter(torch.randn(1,\n",
    "                                                requires_grad=True,\n",
    "                                                dtype=torch.float32))\n",
    "        self.bias = nn.Parameter(torch.randn(1, \n",
    "                                             requires_grad=True,\n",
    "                                             dtype=torch.float32))\n",
    "    \n",
    "    # Forward method to define the computation in the model\n",
    "    def forward(self, x: torch.tensor) -> torch.tensor:\n",
    "        return self.weights * x + self.bias"
   ]
  },
  {
   "cell_type": "code",
   "execution_count": 171,
   "id": "18e3c16b",
   "metadata": {},
   "outputs": [],
   "source": [
    "torch.manual_seed(42)\n",
    "model_0 = LinearRegressionModel()"
   ]
  },
  {
   "cell_type": "code",
   "execution_count": 172,
   "id": "3e2b2d6e",
   "metadata": {},
   "outputs": [
    {
     "data": {
      "text/plain": [
       "[Parameter containing:\n",
       " tensor([0.3367], requires_grad=True),\n",
       " Parameter containing:\n",
       " tensor([0.1288], requires_grad=True)]"
      ]
     },
     "execution_count": 172,
     "metadata": {},
     "output_type": "execute_result"
    }
   ],
   "source": [
    "list(model_0.parameters())"
   ]
  },
  {
   "cell_type": "code",
   "execution_count": 173,
   "id": "bb6194e8",
   "metadata": {},
   "outputs": [
    {
     "data": {
      "text/plain": [
       "OrderedDict([('weights', tensor([0.3367])), ('bias', tensor([0.1288]))])"
      ]
     },
     "execution_count": 173,
     "metadata": {},
     "output_type": "execute_result"
    }
   ],
   "source": [
    "model_0.state_dict()"
   ]
  },
  {
   "cell_type": "markdown",
   "id": "3342258a",
   "metadata": {},
   "source": [
    "## Initial predictions"
   ]
  },
  {
   "cell_type": "code",
   "execution_count": 174,
   "id": "fa795f0d",
   "metadata": {},
   "outputs": [],
   "source": [
    "with torch.inference_mode(): \n",
    "    y_preds = model_0(X_test)"
   ]
  },
  {
   "cell_type": "code",
   "execution_count": 175,
   "id": "fb06e1b6",
   "metadata": {},
   "outputs": [
    {
     "data": {
      "image/png": "[encoded data removed]",
      "text/plain": [
       "<Figure size 720x504 with 1 Axes>"
      ]
     },
     "metadata": {
      "needs_background": "light"
     },
     "output_type": "display_data"
    }
   ],
   "source": [
    "plot_predictions(predictions=y_preds)"
   ]
  },
  {
   "cell_type": "markdown",
   "id": "4df6bfac",
   "metadata": {},
   "source": [
    "## Improving predictions\n",
    "\n",
    "1. Loss function: measure of error\n",
    "2. Optimiser: minimises the loss / error\n",
    "3. Training / testing loop"
   ]
  },
  {
   "cell_type": "code",
   "execution_count": 176,
   "id": "044af731",
   "metadata": {},
   "outputs": [],
   "source": [
    "# loss function\n",
    "loss_fn = nn.L1Loss()\n",
    "\n",
    "# objective \n",
    "optimizer = torch.optim.SGD(params=model_0.parameters(), \n",
    "                      lr=0.001)"
   ]
  },
  {
   "cell_type": "markdown",
   "id": "74b83889",
   "metadata": {},
   "source": [
    "### Training loop\n",
    "0. Loop thru data\n",
    "1. Forward pass - aka forward prop\n",
    "2. Calculate loss, compare forward pass pred to labels\n",
    "3. Optimiser zero grad\n",
    "4. Loss backward \n",
    "5. Optimiser step"
   ]
  },
  {
   "cell_type": "code",
   "execution_count": 177,
   "id": "2919ec52",
   "metadata": {},
   "outputs": [
    {
     "name": "stdout",
     "output_type": "stream",
     "text": [
      "epoch: 0 , Loss tensor(0.3129, grad_fn=<L1LossBackward0>) , Test loss tensor(0.4932)\n",
      "Loss: tensor(0.3129, grad_fn=<L1LossBackward0>)\n",
      "epoch: 10 , Loss tensor(0.3014, grad_fn=<L1LossBackward0>) , Test loss tensor(0.4797)\n",
      "Loss: tensor(0.3014, grad_fn=<L1LossBackward0>)\n",
      "epoch: 20 , Loss tensor(0.2898, grad_fn=<L1LossBackward0>) , Test loss tensor(0.4662)\n",
      "Loss: tensor(0.2898, grad_fn=<L1LossBackward0>)\n",
      "epoch: 30 , Loss tensor(0.2783, grad_fn=<L1LossBackward0>) , Test loss tensor(0.4528)\n",
      "Loss: tensor(0.2783, grad_fn=<L1LossBackward0>)\n",
      "epoch: 40 , Loss tensor(0.2668, grad_fn=<L1LossBackward0>) , Test loss tensor(0.4393)\n",
      "Loss: tensor(0.2668, grad_fn=<L1LossBackward0>)\n",
      "epoch: 50 , Loss tensor(0.2553, grad_fn=<L1LossBackward0>) , Test loss tensor(0.4258)\n",
      "Loss: tensor(0.2553, grad_fn=<L1LossBackward0>)\n",
      "epoch: 60 , Loss tensor(0.2438, grad_fn=<L1LossBackward0>) , Test loss tensor(0.4124)\n",
      "Loss: tensor(0.2438, grad_fn=<L1LossBackward0>)\n",
      "epoch: 70 , Loss tensor(0.2322, grad_fn=<L1LossBackward0>) , Test loss tensor(0.3989)\n",
      "Loss: tensor(0.2322, grad_fn=<L1LossBackward0>)\n",
      "epoch: 80 , Loss tensor(0.2207, grad_fn=<L1LossBackward0>) , Test loss tensor(0.3854)\n",
      "Loss: tensor(0.2207, grad_fn=<L1LossBackward0>)\n",
      "epoch: 90 , Loss tensor(0.2092, grad_fn=<L1LossBackward0>) , Test loss tensor(0.3720)\n",
      "Loss: tensor(0.2092, grad_fn=<L1LossBackward0>)\n",
      "epoch: 100 , Loss tensor(0.1977, grad_fn=<L1LossBackward0>) , Test loss tensor(0.3585)\n",
      "Loss: tensor(0.1977, grad_fn=<L1LossBackward0>)\n",
      "epoch: 110 , Loss tensor(0.1862, grad_fn=<L1LossBackward0>) , Test loss tensor(0.3450)\n",
      "Loss: tensor(0.1862, grad_fn=<L1LossBackward0>)\n",
      "epoch: 120 , Loss tensor(0.1746, grad_fn=<L1LossBackward0>) , Test loss tensor(0.3315)\n",
      "Loss: tensor(0.1746, grad_fn=<L1LossBackward0>)\n",
      "epoch: 130 , Loss tensor(0.1631, grad_fn=<L1LossBackward0>) , Test loss tensor(0.3181)\n",
      "Loss: tensor(0.1631, grad_fn=<L1LossBackward0>)\n",
      "epoch: 140 , Loss tensor(0.1516, grad_fn=<L1LossBackward0>) , Test loss tensor(0.3046)\n",
      "Loss: tensor(0.1516, grad_fn=<L1LossBackward0>)\n",
      "epoch: 150 , Loss tensor(0.1401, grad_fn=<L1LossBackward0>) , Test loss tensor(0.2911)\n",
      "Loss: tensor(0.1401, grad_fn=<L1LossBackward0>)\n",
      "epoch: 160 , Loss tensor(0.1285, grad_fn=<L1LossBackward0>) , Test loss tensor(0.2777)\n",
      "Loss: tensor(0.1285, grad_fn=<L1LossBackward0>)\n",
      "epoch: 170 , Loss tensor(0.1170, grad_fn=<L1LossBackward0>) , Test loss tensor(0.2642)\n",
      "Loss: tensor(0.1170, grad_fn=<L1LossBackward0>)\n",
      "epoch: 180 , Loss tensor(0.1065, grad_fn=<L1LossBackward0>) , Test loss tensor(0.2513)\n",
      "Loss: tensor(0.1065, grad_fn=<L1LossBackward0>)\n",
      "epoch: 190 , Loss tensor(0.0975, grad_fn=<L1LossBackward0>) , Test loss tensor(0.2392)\n",
      "Loss: tensor(0.0975, grad_fn=<L1LossBackward0>)\n",
      "epoch: 200 , Loss tensor(0.0897, grad_fn=<L1LossBackward0>) , Test loss tensor(0.2280)\n",
      "Loss: tensor(0.0897, grad_fn=<L1LossBackward0>)\n",
      "epoch: 210 , Loss tensor(0.0831, grad_fn=<L1LossBackward0>) , Test loss tensor(0.2174)\n",
      "Loss: tensor(0.0831, grad_fn=<L1LossBackward0>)\n",
      "epoch: 220 , Loss tensor(0.0773, grad_fn=<L1LossBackward0>) , Test loss tensor(0.2075)\n",
      "Loss: tensor(0.0773, grad_fn=<L1LossBackward0>)\n",
      "epoch: 230 , Loss tensor(0.0724, grad_fn=<L1LossBackward0>) , Test loss tensor(0.1984)\n",
      "Loss: tensor(0.0724, grad_fn=<L1LossBackward0>)\n",
      "epoch: 240 , Loss tensor(0.0683, grad_fn=<L1LossBackward0>) , Test loss tensor(0.1899)\n",
      "Loss: tensor(0.0683, grad_fn=<L1LossBackward0>)\n",
      "epoch: 250 , Loss tensor(0.0648, grad_fn=<L1LossBackward0>) , Test loss tensor(0.1821)\n",
      "Loss: tensor(0.0648, grad_fn=<L1LossBackward0>)\n",
      "epoch: 260 , Loss tensor(0.0617, grad_fn=<L1LossBackward0>) , Test loss tensor(0.1748)\n",
      "Loss: tensor(0.0617, grad_fn=<L1LossBackward0>)\n",
      "epoch: 270 , Loss tensor(0.0592, grad_fn=<L1LossBackward0>) , Test loss tensor(0.1680)\n",
      "Loss: tensor(0.0592, grad_fn=<L1LossBackward0>)\n",
      "epoch: 280 , Loss tensor(0.0570, grad_fn=<L1LossBackward0>) , Test loss tensor(0.1617)\n",
      "Loss: tensor(0.0570, grad_fn=<L1LossBackward0>)\n",
      "epoch: 290 , Loss tensor(0.0551, grad_fn=<L1LossBackward0>) , Test loss tensor(0.1561)\n",
      "Loss: tensor(0.0551, grad_fn=<L1LossBackward0>)\n",
      "epoch: 300 , Loss tensor(0.0536, grad_fn=<L1LossBackward0>) , Test loss tensor(0.1509)\n",
      "Loss: tensor(0.0536, grad_fn=<L1LossBackward0>)\n",
      "epoch: 310 , Loss tensor(0.0522, grad_fn=<L1LossBackward0>) , Test loss tensor(0.1460)\n",
      "Loss: tensor(0.0522, grad_fn=<L1LossBackward0>)\n",
      "epoch: 320 , Loss tensor(0.0511, grad_fn=<L1LossBackward0>) , Test loss tensor(0.1415)\n",
      "Loss: tensor(0.0511, grad_fn=<L1LossBackward0>)\n",
      "epoch: 330 , Loss tensor(0.0500, grad_fn=<L1LossBackward0>) , Test loss tensor(0.1375)\n",
      "Loss: tensor(0.0500, grad_fn=<L1LossBackward0>)\n",
      "epoch: 340 , Loss tensor(0.0492, grad_fn=<L1LossBackward0>) , Test loss tensor(0.1337)\n",
      "Loss: tensor(0.0492, grad_fn=<L1LossBackward0>)\n",
      "epoch: 350 , Loss tensor(0.0484, grad_fn=<L1LossBackward0>) , Test loss tensor(0.1302)\n",
      "Loss: tensor(0.0484, grad_fn=<L1LossBackward0>)\n",
      "epoch: 360 , Loss tensor(0.0477, grad_fn=<L1LossBackward0>) , Test loss tensor(0.1271)\n",
      "Loss: tensor(0.0477, grad_fn=<L1LossBackward0>)\n",
      "epoch: 370 , Loss tensor(0.0470, grad_fn=<L1LossBackward0>) , Test loss tensor(0.1240)\n",
      "Loss: tensor(0.0470, grad_fn=<L1LossBackward0>)\n",
      "epoch: 380 , Loss tensor(0.0465, grad_fn=<L1LossBackward0>) , Test loss tensor(0.1215)\n",
      "Loss: tensor(0.0465, grad_fn=<L1LossBackward0>)\n",
      "epoch: 390 , Loss tensor(0.0460, grad_fn=<L1LossBackward0>) , Test loss tensor(0.1190)\n",
      "Loss: tensor(0.0460, grad_fn=<L1LossBackward0>)\n",
      "epoch: 400 , Loss tensor(0.0455, grad_fn=<L1LossBackward0>) , Test loss tensor(0.1166)\n",
      "Loss: tensor(0.0455, grad_fn=<L1LossBackward0>)\n",
      "epoch: 410 , Loss tensor(0.0450, grad_fn=<L1LossBackward0>) , Test loss tensor(0.1143)\n",
      "Loss: tensor(0.0450, grad_fn=<L1LossBackward0>)\n",
      "epoch: 420 , Loss tensor(0.0446, grad_fn=<L1LossBackward0>) , Test loss tensor(0.1125)\n",
      "Loss: tensor(0.0446, grad_fn=<L1LossBackward0>)\n",
      "epoch: 430 , Loss tensor(0.0442, grad_fn=<L1LossBackward0>) , Test loss tensor(0.1108)\n",
      "Loss: tensor(0.0442, grad_fn=<L1LossBackward0>)\n",
      "epoch: 440 , Loss tensor(0.0438, grad_fn=<L1LossBackward0>) , Test loss tensor(0.1090)\n",
      "Loss: tensor(0.0438, grad_fn=<L1LossBackward0>)\n",
      "epoch: 450 , Loss tensor(0.0434, grad_fn=<L1LossBackward0>) , Test loss tensor(0.1072)\n",
      "Loss: tensor(0.0434, grad_fn=<L1LossBackward0>)\n",
      "epoch: 460 , Loss tensor(0.0430, grad_fn=<L1LossBackward0>) , Test loss tensor(0.1054)\n",
      "Loss: tensor(0.0430, grad_fn=<L1LossBackward0>)\n",
      "epoch: 470 , Loss tensor(0.0427, grad_fn=<L1LossBackward0>) , Test loss tensor(0.1042)\n",
      "Loss: tensor(0.0427, grad_fn=<L1LossBackward0>)\n",
      "epoch: 480 , Loss tensor(0.0423, grad_fn=<L1LossBackward0>) , Test loss tensor(0.1031)\n",
      "Loss: tensor(0.0423, grad_fn=<L1LossBackward0>)\n",
      "epoch: 490 , Loss tensor(0.0420, grad_fn=<L1LossBackward0>) , Test loss tensor(0.1020)\n",
      "Loss: tensor(0.0420, grad_fn=<L1LossBackward0>)\n",
      "epoch: 500 , Loss tensor(0.0416, grad_fn=<L1LossBackward0>) , Test loss tensor(0.1009)\n",
      "Loss: tensor(0.0416, grad_fn=<L1LossBackward0>)\n",
      "epoch: 510 , Loss tensor(0.0413, grad_fn=<L1LossBackward0>) , Test loss tensor(0.0998)\n",
      "Loss: tensor(0.0413, grad_fn=<L1LossBackward0>)\n",
      "epoch: 520 , Loss tensor(0.0409, grad_fn=<L1LossBackward0>) , Test loss tensor(0.0987)\n",
      "Loss: tensor(0.0409, grad_fn=<L1LossBackward0>)\n",
      "epoch: 530 , Loss tensor(0.0406, grad_fn=<L1LossBackward0>) , Test loss tensor(0.0976)\n",
      "Loss: tensor(0.0406, grad_fn=<L1LossBackward0>)\n",
      "epoch: 540 , Loss tensor(0.0402, grad_fn=<L1LossBackward0>) , Test loss tensor(0.0965)\n",
      "Loss: tensor(0.0402, grad_fn=<L1LossBackward0>)\n",
      "epoch: 550 , Loss tensor(0.0399, grad_fn=<L1LossBackward0>) , Test loss tensor(0.0954)\n",
      "Loss: tensor(0.0399, grad_fn=<L1LossBackward0>)\n",
      "epoch: 560 , Loss tensor(0.0395, grad_fn=<L1LossBackward0>) , Test loss tensor(0.0943)\n",
      "Loss: tensor(0.0395, grad_fn=<L1LossBackward0>)\n",
      "epoch: 570 , Loss tensor(0.0392, grad_fn=<L1LossBackward0>) , Test loss tensor(0.0932)\n",
      "Loss: tensor(0.0392, grad_fn=<L1LossBackward0>)\n",
      "epoch: 580 , Loss tensor(0.0388, grad_fn=<L1LossBackward0>) , Test loss tensor(0.0921)\n",
      "Loss: tensor(0.0388, grad_fn=<L1LossBackward0>)\n",
      "epoch: 590 , Loss tensor(0.0385, grad_fn=<L1LossBackward0>) , Test loss tensor(0.0910)\n",
      "Loss: tensor(0.0385, grad_fn=<L1LossBackward0>)\n",
      "epoch: 600 , Loss tensor(0.0381, grad_fn=<L1LossBackward0>) , Test loss tensor(0.0899)\n",
      "Loss: tensor(0.0381, grad_fn=<L1LossBackward0>)\n",
      "epoch: 610 , Loss tensor(0.0378, grad_fn=<L1LossBackward0>) , Test loss tensor(0.0888)\n",
      "Loss: tensor(0.0378, grad_fn=<L1LossBackward0>)\n",
      "epoch: 620 , Loss tensor(0.0374, grad_fn=<L1LossBackward0>) , Test loss tensor(0.0877)\n",
      "Loss: tensor(0.0374, grad_fn=<L1LossBackward0>)\n",
      "epoch: 630 , Loss tensor(0.0371, grad_fn=<L1LossBackward0>) , Test loss tensor(0.0866)\n",
      "Loss: tensor(0.0371, grad_fn=<L1LossBackward0>)\n",
      "epoch: 640 , Loss tensor(0.0367, grad_fn=<L1LossBackward0>) , Test loss tensor(0.0858)\n",
      "Loss: tensor(0.0367, grad_fn=<L1LossBackward0>)\n",
      "epoch: 650 , Loss tensor(0.0364, grad_fn=<L1LossBackward0>) , Test loss tensor(0.0850)\n",
      "Loss: tensor(0.0364, grad_fn=<L1LossBackward0>)\n",
      "epoch: 660 , Loss tensor(0.0360, grad_fn=<L1LossBackward0>) , Test loss tensor(0.0842)\n",
      "Loss: tensor(0.0360, grad_fn=<L1LossBackward0>)\n",
      "epoch: 670 , Loss tensor(0.0357, grad_fn=<L1LossBackward0>) , Test loss tensor(0.0834)\n",
      "Loss: tensor(0.0357, grad_fn=<L1LossBackward0>)\n",
      "epoch: 680 , Loss tensor(0.0354, grad_fn=<L1LossBackward0>) , Test loss tensor(0.0826)\n",
      "Loss: tensor(0.0354, grad_fn=<L1LossBackward0>)\n",
      "epoch: 690 , Loss tensor(0.0350, grad_fn=<L1LossBackward0>) , Test loss tensor(0.0818)\n",
      "Loss: tensor(0.0350, grad_fn=<L1LossBackward0>)\n",
      "epoch: 700 , Loss tensor(0.0347, grad_fn=<L1LossBackward0>) , Test loss tensor(0.0810)\n",
      "Loss: tensor(0.0347, grad_fn=<L1LossBackward0>)\n",
      "epoch: 710 , Loss tensor(0.0343, grad_fn=<L1LossBackward0>) , Test loss tensor(0.0801)\n",
      "Loss: tensor(0.0343, grad_fn=<L1LossBackward0>)\n",
      "epoch: 720 , Loss tensor(0.0340, grad_fn=<L1LossBackward0>) , Test loss tensor(0.0794)\n",
      "Loss: tensor(0.0340, grad_fn=<L1LossBackward0>)\n",
      "epoch: 730 , Loss tensor(0.0336, grad_fn=<L1LossBackward0>) , Test loss tensor(0.0786)\n",
      "Loss: tensor(0.0336, grad_fn=<L1LossBackward0>)\n",
      "epoch: 740 , Loss tensor(0.0333, grad_fn=<L1LossBackward0>) , Test loss tensor(0.0777)\n",
      "Loss: tensor(0.0333, grad_fn=<L1LossBackward0>)\n",
      "epoch: 750 , Loss tensor(0.0329, grad_fn=<L1LossBackward0>) , Test loss tensor(0.0770)\n",
      "Loss: tensor(0.0329, grad_fn=<L1LossBackward0>)\n",
      "epoch: 760 , Loss tensor(0.0326, grad_fn=<L1LossBackward0>) , Test loss tensor(0.0761)\n",
      "Loss: tensor(0.0326, grad_fn=<L1LossBackward0>)\n",
      "epoch: 770 , Loss tensor(0.0323, grad_fn=<L1LossBackward0>) , Test loss tensor(0.0754)\n",
      "Loss: tensor(0.0323, grad_fn=<L1LossBackward0>)\n",
      "epoch: 780 , Loss tensor(0.0319, grad_fn=<L1LossBackward0>) , Test loss tensor(0.0746)\n",
      "Loss: tensor(0.0319, grad_fn=<L1LossBackward0>)\n",
      "epoch: 790 , Loss tensor(0.0316, grad_fn=<L1LossBackward0>) , Test loss tensor(0.0737)\n",
      "Loss: tensor(0.0316, grad_fn=<L1LossBackward0>)\n",
      "epoch: 800 , Loss tensor(0.0312, grad_fn=<L1LossBackward0>) , Test loss tensor(0.0730)\n",
      "Loss: tensor(0.0312, grad_fn=<L1LossBackward0>)\n",
      "epoch: 810 , Loss tensor(0.0309, grad_fn=<L1LossBackward0>) , Test loss tensor(0.0721)\n",
      "Loss: tensor(0.0309, grad_fn=<L1LossBackward0>)\n",
      "epoch: 820 , Loss tensor(0.0305, grad_fn=<L1LossBackward0>) , Test loss tensor(0.0713)\n",
      "Loss: tensor(0.0305, grad_fn=<L1LossBackward0>)\n",
      "epoch: 830 , Loss tensor(0.0302, grad_fn=<L1LossBackward0>) , Test loss tensor(0.0706)\n",
      "Loss: tensor(0.0302, grad_fn=<L1LossBackward0>)\n",
      "epoch: 840 , Loss tensor(0.0299, grad_fn=<L1LossBackward0>) , Test loss tensor(0.0697)\n",
      "Loss: tensor(0.0299, grad_fn=<L1LossBackward0>)\n",
      "epoch: 850 , Loss tensor(0.0295, grad_fn=<L1LossBackward0>) , Test loss tensor(0.0689)\n",
      "Loss: tensor(0.0295, grad_fn=<L1LossBackward0>)\n",
      "epoch: 860 , Loss tensor(0.0292, grad_fn=<L1LossBackward0>) , Test loss tensor(0.0681)\n",
      "Loss: tensor(0.0292, grad_fn=<L1LossBackward0>)\n",
      "epoch: 870 , Loss tensor(0.0288, grad_fn=<L1LossBackward0>) , Test loss tensor(0.0673)\n",
      "Loss: tensor(0.0288, grad_fn=<L1LossBackward0>)\n",
      "epoch: 880 , Loss tensor(0.0285, grad_fn=<L1LossBackward0>) , Test loss tensor(0.0665)\n",
      "Loss: tensor(0.0285, grad_fn=<L1LossBackward0>)\n",
      "epoch: 890 , Loss tensor(0.0281, grad_fn=<L1LossBackward0>) , Test loss tensor(0.0657)\n",
      "Loss: tensor(0.0281, grad_fn=<L1LossBackward0>)\n",
      "epoch: 900 , Loss tensor(0.0278, grad_fn=<L1LossBackward0>) , Test loss tensor(0.0649)\n",
      "Loss: tensor(0.0278, grad_fn=<L1LossBackward0>)\n",
      "epoch: 910 , Loss tensor(0.0275, grad_fn=<L1LossBackward0>) , Test loss tensor(0.0641)\n",
      "Loss: tensor(0.0275, grad_fn=<L1LossBackward0>)\n",
      "epoch: 920 , Loss tensor(0.0271, grad_fn=<L1LossBackward0>) , Test loss tensor(0.0633)\n",
      "Loss: tensor(0.0271, grad_fn=<L1LossBackward0>)\n",
      "epoch: 930 , Loss tensor(0.0268, grad_fn=<L1LossBackward0>) , Test loss tensor(0.0625)\n",
      "Loss: tensor(0.0268, grad_fn=<L1LossBackward0>)\n",
      "epoch: 940 , Loss tensor(0.0264, grad_fn=<L1LossBackward0>) , Test loss tensor(0.0617)\n",
      "Loss: tensor(0.0264, grad_fn=<L1LossBackward0>)\n",
      "epoch: 950 , Loss tensor(0.0261, grad_fn=<L1LossBackward0>) , Test loss tensor(0.0609)\n",
      "Loss: tensor(0.0261, grad_fn=<L1LossBackward0>)\n",
      "epoch: 960 , Loss tensor(0.0257, grad_fn=<L1LossBackward0>) , Test loss tensor(0.0601)\n",
      "Loss: tensor(0.0257, grad_fn=<L1LossBackward0>)\n",
      "epoch: 970 , Loss tensor(0.0254, grad_fn=<L1LossBackward0>) , Test loss tensor(0.0593)\n",
      "Loss: tensor(0.0254, grad_fn=<L1LossBackward0>)\n",
      "epoch: 980 , Loss tensor(0.0250, grad_fn=<L1LossBackward0>) , Test loss tensor(0.0585)\n",
      "Loss: tensor(0.0250, grad_fn=<L1LossBackward0>)\n",
      "epoch: 990 , Loss tensor(0.0247, grad_fn=<L1LossBackward0>) , Test loss tensor(0.0577)\n",
      "Loss: tensor(0.0247, grad_fn=<L1LossBackward0>)\n"
     ]
    }
   ],
   "source": [
    "epochs = 1000\n",
    "epoch_count = []\n",
    "loss_values = []\n",
    "test_loss_values = []\n",
    "\n",
    "# step 0\n",
    "for epoch in range(epochs):\n",
    "    \n",
    "    # model in train mode\n",
    "    model_0.train()\n",
    "    \n",
    "    # step 1\n",
    "    y_pred = model_0(X_train)\n",
    "    \n",
    "    # step 2\n",
    "    loss = loss_fn(y_pred, y_train)\n",
    "    \n",
    "    # step 3\n",
    "    optimizer.zero_grad()\n",
    "    \n",
    "    # step 4 \n",
    "    loss.backward()\n",
    "    \n",
    "    # step 5\n",
    "    optimizer.step()\n",
    "    \n",
    "    # testing\n",
    "    model_0.eval()\n",
    "    with torch.inference_mode():\n",
    "        test_pred = model_0(X_test)\n",
    "        test_loss = loss_fn(test_pred, y_test)\n",
    "    \n",
    "    if epoch%10 == 0:\n",
    "        epoch_count.append(epoch)\n",
    "        loss_values.append(loss)\n",
    "        test_loss_values.append(test_loss)\n",
    "        print(\"epoch:\", epoch, ', Loss', loss, ', Test loss', test_loss)\n",
    "        print('Loss:', loss)"
   ]
  },
  {
   "cell_type": "code",
   "execution_count": 178,
   "id": "00ca406a",
   "metadata": {},
   "outputs": [],
   "source": [
    "with torch.inference_mode():\n",
    "    y_pred = model_0(X_test)"
   ]
  },
  {
   "cell_type": "code",
   "execution_count": 179,
   "id": "cd6a9694",
   "metadata": {},
   "outputs": [
    {
     "data": {
      "image/png": "[encoded data removed]",
      "text/plain": [
       "<Figure size 720x504 with 1 Axes>"
      ]
     },
     "metadata": {
      "needs_background": "light"
     },
     "output_type": "display_data"
    }
   ],
   "source": [
    "plot_predictions(predictions=y_pred)"
   ]
  },
  {
   "cell_type": "code",
   "execution_count": 180,
   "id": "cce220cd",
   "metadata": {},
   "outputs": [
    {
     "data": {
      "text/plain": [
       "OrderedDict([('weights', tensor([0.5788])), ('bias', tensor([0.3509]))])"
      ]
     },
     "execution_count": 180,
     "metadata": {},
     "output_type": "execute_result"
    }
   ],
   "source": [
    "model_0.state_dict()"
   ]
  },
  {
   "cell_type": "code",
   "execution_count": 197,
   "id": "5f593fb9",
   "metadata": {},
   "outputs": [
    {
     "data": {
      "text/plain": [
       "[<matplotlib.lines.Line2D at 0x7fa935fddd00>]"
      ]
     },
     "execution_count": 197,
     "metadata": {},
     "output_type": "execute_result"
    },
    {
     "data": {
      "image/png": "[encoded data removed]",
      "text/plain": [
       "<Figure size 432x288 with 1 Axes>"
      ]
     },
     "metadata": {
      "needs_background": "light"
     },
     "output_type": "display_data"
    }
   ],
   "source": [
    "import numpy as np\n",
    "plt.plot(epoch_count, np.array(torch.tensor(loss_values).numpy()))\n",
    "plt.plot(epoch_count, test_loss_values)"
   ]
  },
  {
   "cell_type": "code",
   "execution_count": null,
   "id": "39b0c706",
   "metadata": {},
   "outputs": [],
   "source": []
  }
 ],
 "metadata": {
  "kernelspec": {
   "display_name": "Python 3",
   "language": "python",
   "name": "python3"
  },
  "language_info": {
   "codemirror_mode": {
    "name": "ipython",
    "version": 3
   },
   "file_extension": ".py",
   "mimetype": "text/x-python",
   "name": "python",
   "nbconvert_exporter": "python",
   "pygments_lexer": "ipython3",
   "version": "3.8.5"
  }
 },
 "nbformat": 4,
 "nbformat_minor": 5
}
